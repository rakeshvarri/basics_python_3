{
  "nbformat": 4,
  "nbformat_minor": 0,
  "metadata": {
    "colab": {
      "provenance": []
    },
    "kernelspec": {
      "name": "python3",
      "display_name": "Python 3"
    },
    "language_info": {
      "name": "python"
    }
  },
  "cells": [
    {
      "cell_type": "markdown",
      "source": [
        "#Exercise 1 : Prime Numbers"
      ],
      "metadata": {
        "id": "7XknHFvSU8QD"
      }
    },
    {
      "cell_type": "markdown",
      "source": [
        "Write a Python program that checks whether a given number is prime or not. A prime number is a natural number greater than 1 that has no positive divisors other than 1 and itself."
      ],
      "metadata": {
        "id": "X7RnVAxIVPS-"
      }
    },
    {
      "cell_type": "code",
      "source": [
        "number  =  int(input('enter a number:'))\n",
        "factors = 0\n",
        "for i in range(1,number+1):\n",
        "  if number % i == 0 :\n",
        "    factors += 1\n",
        "  else:\n",
        "     pass\n",
        "\n",
        "if factors == 2:\n",
        "  print(number ,'is a prime number')\n",
        "else:\n",
        "  print(number ,'not a prime number')\n"
      ],
      "metadata": {
        "colab": {
          "base_uri": "https://localhost:8080/"
        },
        "id": "sJZnOlyPVEfM",
        "outputId": "d5ae954f-12ae-422d-8582-1f0b4f35c5a9"
      },
      "execution_count": null,
      "outputs": [
        {
          "output_type": "stream",
          "name": "stdout",
          "text": [
            "enter a number:7\n",
            "7 is a prime number\n"
          ]
        }
      ]
    },
    {
      "cell_type": "markdown",
      "source": [
        "here we take factors == 2 , because the factors of prime numbers is 1 and its itself . for every non prime number there are more than 2 factors"
      ],
      "metadata": {
        "id": "58-wBcQqX1hN"
      }
    },
    {
      "cell_type": "markdown",
      "source": [
        "#Exercise 2 : Product of Random Numbers"
      ],
      "metadata": {
        "id": "ekExIEZHYhvp"
      }
    },
    {
      "cell_type": "code",
      "source": [
        "import numpy as np\n",
        "a= np.random.randint(1,100,2)\n",
        "print(a)\n",
        "user_input = int(input('enter the product :'))\n",
        "b = a[0]*a[1]\n",
        "if b == user_input :\n",
        "  print('user is correct')\n",
        "else:\n",
        "  print('user is incorrect')\n",
        "  print('the product of two random numbers is',b)"
      ],
      "metadata": {
        "colab": {
          "base_uri": "https://localhost:8080/"
        },
        "id": "bDLWR3_WYmCd",
        "outputId": "e0a97f0e-f088-4368-dec6-8836c1920a18"
      },
      "execution_count": null,
      "outputs": [
        {
          "output_type": "stream",
          "name": "stdout",
          "text": [
            "[ 2 13]\n",
            "enter the product :26\n",
            "user is correct\n"
          ]
        }
      ]
    },
    {
      "cell_type": "markdown",
      "source": [
        "#Exercise 3 : Squares of Even / Odd numbers"
      ],
      "metadata": {
        "id": "G02THs0PBscu"
      }
    },
    {
      "cell_type": "code",
      "source": [
        "squared_even_numbers = []\n",
        "for i in range(100,201):\n",
        "  if i % 2 == 0:\n",
        "    squared_even_numbers.append(i ** 2)\n",
        "  else:\n",
        "    continue\n",
        "print(squared_even_numbers)"
      ],
      "metadata": {
        "colab": {
          "base_uri": "https://localhost:8080/"
        },
        "id": "cAEjfINlEKoU",
        "outputId": "52b9c6e2-83ed-4376-9f90-25f5d8827690"
      },
      "execution_count": null,
      "outputs": [
        {
          "output_type": "stream",
          "name": "stdout",
          "text": [
            "[10000, 10404, 10816, 11236, 11664, 12100, 12544, 12996, 13456, 13924, 14400, 14884, 15376, 15876, 16384, 16900, 17424, 17956, 18496, 19044, 19600, 20164, 20736, 21316, 21904, 22500, 23104, 23716, 24336, 24964, 25600, 26244, 26896, 27556, 28224, 28900, 29584, 30276, 30976, 31684, 32400, 33124, 33856, 34596, 35344, 36100, 36864, 37636, 38416, 39204, 40000]\n"
          ]
        }
      ]
    },
    {
      "cell_type": "markdown",
      "source": [
        "here we take looping statements , for iteration purpose .the client want square of either even numbers or odd numbers . so we take even numbers between the range of 100 and 200 and square the numbers and added into the list"
      ],
      "metadata": {
        "id": "qOJyiuJiWMuE"
      }
    },
    {
      "cell_type": "markdown",
      "source": [
        "#Exercise 4 : Word Counter"
      ],
      "metadata": {
        "id": "cN6TwyttXLBt"
      }
    },
    {
      "cell_type": "markdown",
      "source": [
        "write a program to count the number of words in a given text.\n",
        "\n",
        "example:\n",
        "\n",
        "input_text = \"This is a sample text. This text will be used to demonstrate the word counter.\"\n",
        "\n",
        "Expected output:\n",
        "\n",
        "'This': 2\n",
        "\n",
        "'is': 1\n",
        "\n",
        "'a': 1\n",
        "\n",
        "sample': 1\n",
        "\n",
        "'text.': 1\n"
      ],
      "metadata": {
        "id": "BWTfymtnXTs4"
      }
    },
    {
      "cell_type": "code",
      "source": [
        "text = input('enter a sentence : ')\n",
        "text_lower = str(text).lower().split()\n",
        "from collections  import Counter\n",
        "print(Counter(text_lower))"
      ],
      "metadata": {
        "colab": {
          "base_uri": "https://localhost:8080/"
        },
        "id": "Btt2WLqJXv3v",
        "outputId": "e3394dc3-9654-450e-a3bd-d3cd5cb76e53"
      },
      "execution_count": null,
      "outputs": [
        {
          "output_type": "stream",
          "name": "stdout",
          "text": [
            "enter a sentence : This is a sample text This text will be used to demonstrate the word counter.\n",
            "Counter({'this': 2, 'text': 2, 'is': 1, 'a': 1, 'sample': 1, 'will': 1, 'be': 1, 'used': 1, 'to': 1, 'demonstrate': 1, 'the': 1, 'word': 1, 'counter.': 1})\n"
          ]
        }
      ]
    },
    {
      "cell_type": "markdown",
      "source": [
        "Here we use counter from collections library for counting the words in a given sentence\n",
        "\n",
        "And we use lower case in string data type to convert all uupercase and lowercase into lowecase"
      ],
      "metadata": {
        "id": "3ObgyPI-RYdX"
      }
    },
    {
      "cell_type": "markdown",
      "source": [
        "#Exercise 5: Check for palindrome"
      ],
      "metadata": {
        "id": "z2czHo8FYaER"
      }
    },
    {
      "cell_type": "markdown",
      "source": [
        "Write a Python function called is_palindrome that takes a string as input and returns True if the string is a palindrome, and False otherwise. A palindrome is a word, phrase, number, or other sequence of characters that reads the same forward and backward, ignoring spaces, punctuation, and capitalization.\n",
        "\n",
        "Example:\n",
        "\n",
        "Input: \"racecar\"\n",
        "\n",
        "Expected Output: True"
      ],
      "metadata": {
        "id": "Pa6UGjxxYkbo"
      }
    },
    {
      "cell_type": "code",
      "source": [
        "a = input()\n",
        "c = a[::-1]\n",
        "#print(c)\n",
        "if a == c:\n",
        "  print(True)\n",
        "else:\n",
        "  print(False)"
      ],
      "metadata": {
        "colab": {
          "base_uri": "https://localhost:8080/"
        },
        "id": "lutzhhT5vYZi",
        "outputId": "32827074-0eb7-4f09-a972-3a5d3cf094a3"
      },
      "execution_count": null,
      "outputs": [
        {
          "output_type": "stream",
          "name": "stdout",
          "text": [
            "racecar\n",
            "True\n"
          ]
        }
      ]
    },
    {
      "cell_type": "markdown",
      "source": [
        "in the above code we use slicing of reversing the data and check it is palindrome or not"
      ],
      "metadata": {
        "id": "V9QHt1eKR-GU"
      }
    },
    {
      "cell_type": "markdown",
      "source": [
        "---------------------------------------------#end----------------------------------"
      ],
      "metadata": {
        "id": "yu3Aep0A-Ia7"
      }
    }
  ]
}